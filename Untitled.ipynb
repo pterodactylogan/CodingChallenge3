{
 "cells": [
  {
   "cell_type": "code",
   "execution_count": 13,
   "metadata": {},
   "outputs": [
    {
     "name": "stdout",
     "output_type": "stream",
     "text": [
      "{'pepsi': 10, 'chips': 91, 'cereal': 34, 'coke': 62, 'mac and cheese': 62, 'peanut butter': 64, 'ice cream': 11}\n"
     ]
    }
   ],
   "source": [
    "import random\n",
    "groceries=['pepsi','chips','cereal','coke','mac and cheese','peanut butter','ice cream']\n",
    "idict={}\n",
    "for item in groceries:\n",
    "    idict[item]=random.randint(1,99)\n",
    "print(idict)"
   ]
  },
  {
   "cell_type": "code",
   "execution_count": 3,
   "metadata": {
    "collapsed": true
   },
   "outputs": [],
   "source": [
    "def primePantry(itemDict, numItems, totalWeight):\n",
    "    # Loop over all weights up to totalWeight, in order\n",
    "    knownResults = [\"\"]*(totalWeight+1)\n",
    "##    accumWt = 0\n",
    "    for weight in range(totalWeight+1):\n",
    "##        print(weight)\n",
    "        # Check each value that is not greater than weight\n",
    "        for j in [key for key in itemDict if itemDict[key]<= weight]:\n",
    "  ##          print(\"key: \", j)\n",
    "            if itemDict[j] == weight:\n",
    "                knownResults[weight] = j\n",
    "  ##              accumWt = weight\n",
    "    ##            print(\"Updated knownResults: \", knownResults[weight])\n",
    "            elif j not in knownResults[weight-itemDict[j]] and knownResults[weight-itemDict[j]] != \"\":\n",
    "                knownResults[weight] = knownResults[weight-itemDict[j]]+j\n",
    "    ##            accumWt = weight\n",
    "      ##          print(\"Updated knownResults: \", knownResults[weight])\n",
    "    return knownResults[totalWeight]"
   ]
  },
  {
   "cell_type": "code",
   "execution_count": 4,
   "metadata": {
    "collapsed": true
   },
   "outputs": [],
   "source": [
    "def prime_pantry(itemDict, nItems, totalWt):\n",
    "    \"\"\"Given a dictionary of items and their prices, size of that dictionary,\n",
    "    and a weight value, returns a list of items that adds up to that weight if\n",
    "    possible or a message notifying the user that the weight isn't achievable\"\"\"\n",
    "    knownResults = [ \"\" for e in range(totalWt+1)]\n",
    "\n",
    "    # Loop over all weight values, in order\n",
    "    for wt in range(1, totalWt+1):\n",
    "        \n",
    "      # Check against each item weight\n",
    "      for item in [key for key in itemDict if itemDict[key] <= wt]:\n",
    "            \n",
    "        # If using the current item lets us reuse a prior result, just update!\n",
    "        if knownResults[wt-itemDict[item]] != \"\" or wt-itemDict[item] == 0:\n",
    "\n",
    "          # Only update if no items repeated\n",
    "          if item not in get_items(itemDict, knownResults, wt-itemDict[item]):\n",
    "            knownResults[wt] = item\n",
    "            \n",
    "            # Once one solution found, don't need to find others\n",
    "            break\n",
    "\n",
    "    if knownResults[totalWt]:\n",
    "        return get_items(itemDict, knownResults, totalWt)\n",
    "    else:\n",
    "        return \"No combination of items adds up to \", totalWt\n",
    "\n",
    "def get_items(itemDict, knownResults, n):\n",
    "    \"\"\"Given a weight, returns a list of the items that add up to the weight\"\"\"\n",
    "    lst = []\n",
    "    \n",
    "    while n > 0:\n",
    "      lst.append(knownResults[n])\n",
    "      n -= itemDict[knownResults[n]]\n",
    "      \n",
    "    return lst"
   ]
  },
  {
   "cell_type": "code",
   "execution_count": 14,
   "metadata": {},
   "outputs": [
    {
     "name": "stdout",
     "output_type": "stream",
     "text": [
      "CPU times: user 388 µs, sys: 2 µs, total: 390 µs\n",
      "Wall time: 396 µs\n"
     ]
    },
    {
     "data": {
      "text/plain": [
       "('No combination of items adds up to ', 100)"
      ]
     },
     "execution_count": 14,
     "metadata": {},
     "output_type": "execute_result"
    }
   ],
   "source": [
    "%%time\n",
    "prime_pantry(idict, len(idict),100)"
   ]
  },
  {
   "cell_type": "code",
   "execution_count": 15,
   "metadata": {},
   "outputs": [
    {
     "name": "stdout",
     "output_type": "stream",
     "text": [
      "CPU times: user 385 µs, sys: 7 µs, total: 392 µs\n",
      "Wall time: 398 µs\n"
     ]
    },
    {
     "data": {
      "text/plain": [
       "''"
      ]
     },
     "execution_count": 15,
     "metadata": {},
     "output_type": "execute_result"
    }
   ],
   "source": [
    "%%time\n",
    "primePantry(idict,len(idict),100)"
   ]
  },
  {
   "cell_type": "code",
   "execution_count": null,
   "metadata": {
    "collapsed": true
   },
   "outputs": [],
   "source": []
  }
 ],
 "metadata": {
  "kernelspec": {
   "display_name": "Python 3",
   "language": "python",
   "name": "python3"
  },
  "language_info": {
   "codemirror_mode": {
    "name": "ipython",
    "version": 3
   },
   "file_extension": ".py",
   "mimetype": "text/x-python",
   "name": "python",
   "nbconvert_exporter": "python",
   "pygments_lexer": "ipython3",
   "version": "3.6.2"
  }
 },
 "nbformat": 4,
 "nbformat_minor": 2
}
